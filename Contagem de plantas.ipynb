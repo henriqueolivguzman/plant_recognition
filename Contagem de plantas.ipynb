{
 "cells": [
  {
   "cell_type": "code",
   "execution_count": 4,
   "id": "68f0f56b",
   "metadata": {},
   "outputs": [],
   "source": [
    "import cv2\n",
    "import numpy as np\n",
    "import matplotlib.pyplot as plt\n",
    "import cvlib as cv\n",
    "\n"
   ]
  },
  {
   "cell_type": "code",
   "execution_count": 5,
   "id": "d23d9505",
   "metadata": {},
   "outputs": [],
   "source": [
    "'''iremos utilizar o detection box para determinar o tipo de objeto a ser identificado'''\n",
    "from cvlib.object_detection import draw_bbox\n"
   ]
  },
  {
   "cell_type": "code",
   "execution_count": 6,
   "id": "873bde6d",
   "metadata": {},
   "outputs": [],
   "source": [
    "from numpy.lib.polynomial import poly"
   ]
  },
  {
   "cell_type": "code",
   "execution_count": 18,
   "id": "e9373abe",
   "metadata": {},
   "outputs": [],
   "source": [
    "#importando a imagem \n",
    "\n",
    "image = cv2.imread(r\"C:\\img_test\\PHOTO-2023-11-13-16-02-08.jpg\")\n",
    "\n"
   ]
  },
  {
   "cell_type": "code",
   "execution_count": 20,
   "id": "c30f030c",
   "metadata": {},
   "outputs": [
    {
     "data": {
      "text/plain": [
       "<matplotlib.image.AxesImage at 0x12d55e72a00>"
      ]
     },
     "execution_count": 20,
     "metadata": {},
     "output_type": "execute_result"
    },
    {
     "data": {
      "image/png": "[encoded data removed]",
      "text/plain": [
       "<Figure size 432x288 with 1 Axes>"
      ]
     },
     "metadata": {
      "needs_background": "light"
     },
     "output_type": "display_data"
    }
   ],
   "source": [
    "# Converter de BGR para RGB (OpenCV carrega imagens em formato BGR)\n",
    "'''colocando o bounding box, a caixa delimitadora sobre a imagem '''\n",
    "plt.imshow(image)\n"
   ]
  },
  {
   "cell_type": "code",
   "execution_count": 21,
   "id": "99f7022f",
   "metadata": {},
   "outputs": [
    {
     "name": "stdout",
     "output_type": "stream",
     "text": [
      "Downloading yolov4.cfg from https://raw.githubusercontent.com/AlexeyAB/darknet/master/cfg/yolov4.cfg\n"
     ]
    },
    {
     "name": "stderr",
     "output_type": "stream",
     "text": [
      "  0% |                                                                        |\r"
     ]
    },
    {
     "name": "stdout",
     "output_type": "stream",
     "text": [
      "Downloading yolov4.weights from https://github.com/AlexeyAB/darknet/releases/download/darknet_yolo_v3_optimal/yolov4.weights\n"
     ]
    },
    {
     "name": "stderr",
     "output_type": "stream",
     "text": [
      " 99% |####################################################################### |\r"
     ]
    },
    {
     "name": "stdout",
     "output_type": "stream",
     "text": [
      "Downloading yolov3_classes.txt from https://github.com/arunponnusamy/object-detection-opencv/raw/master/yolov3.txt\n"
     ]
    },
    {
     "name": "stderr",
     "output_type": "stream",
     "text": [
      "100% |                                                                        |\r"
     ]
    }
   ],
   "source": [
    "'''sera utilizado o common object detector que pertence a biblioteca open cv'''\n",
    "box, label, count = cv.detect_common_objects(image)\n",
    "output = draw_bbox(image,box,label,count)"
   ]
  },
  {
   "cell_type": "code",
   "execution_count": null,
   "id": "89c44a6d",
   "metadata": {},
   "outputs": [],
   "source": [
    "label.count('plant')"
   ]
  }
 ],
 "metadata": {
  "kernelspec": {
   "display_name": "Python 3 (ipykernel)",
   "language": "python",
   "name": "python3"
  },
  "language_info": {
   "codemirror_mode": {
    "name": "ipython",
    "version": 3
   },
   "file_extension": ".py",
   "mimetype": "text/x-python",
   "name": "python",
   "nbconvert_exporter": "python",
   "pygments_lexer": "ipython3",
   "version": "3.9.7"
  }
 },
 "nbformat": 4,
 "nbformat_minor": 5
}
